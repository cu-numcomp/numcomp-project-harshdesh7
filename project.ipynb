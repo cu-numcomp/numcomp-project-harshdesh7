{
 "cells": [
  {
   "cell_type": "markdown",
   "metadata": {},
   "source": [
    "# Project: **Standard Nonnegative Matrix Factorization** in **python nimfa library**\n",
    "\n",
    "This notebook is a blank slate for you to write in.  Feel free to include figures (don't forget to add/commit them to your repository) and examples.  You can change the kernel (from `Python 3`; see upper right) if the open source project you're writing about does not use Python.  You can write from the prompts below or delete all the cells and start fresh.  Note that Git will always contain your history.\n",
    "\n",
    "You can run shell commands:"
   ]
  },
  {
   "cell_type": "code",
   "execution_count": 7,
   "metadata": {},
   "outputs": [
    {
     "name": "stdout",
     "output_type": "stream",
     "text": [
      "README.md     \u001b[34menv\u001b[m\u001b[m           project.ipynb\r\n"
     ]
    }
   ],
   "source": [
    "! ls"
   ]
  },
  {
   "cell_type": "markdown",
   "metadata": {},
   "source": [
    "and include code snippets\n",
    "\n",
    "```c\n",
    "double square(double x) {\n",
    "    return x*x;\n",
    "}\n",
    "```\n",
    "or code cells"
   ]
  },
  {
   "cell_type": "code",
   "execution_count": 25,
   "metadata": {},
   "outputs": [
    {
     "name": "stdout",
     "output_type": "stream",
     "text": [
      "square(3) = 9\n"
     ]
    }
   ],
   "source": [
    "def square(x):\n",
    "    return x*x\n",
    "\n",
    "print(f'square(3) = {square(3)}')"
   ]
  },
  {
   "cell_type": "markdown",
   "metadata": {},
   "source": [
    "The following prompts may be useful, but you don't have to use them.\n",
    "## About the method\n",
    "\n",
    "How does the method relate to concepts we've covered in class. You're writing for your fellow classmates so try to make it understandable to them. Why is the method used in this context? Can you explain why it's preferred over some alternative in this context?\n",
    "\n",
    "### Questions you have about the method\n",
    "\n",
    "* You can list questions you haven't been able to answer. Perhaps your peers will be able to help answer them. Jed will address some questions in class.\n",
    "\n",
    "## About the software\n",
    "\n",
    "Link to the repository. What does the software package do (at a high level)? Who develops it? Who uses it? What language is it written in and what language(s) can it be called from? If there are figures of its architecture, use, or products (e.g., from the docs), you're welcome to include them here. This is an example diagram included in the notebook:\n",
    "\n",
    "![](https://libceed.readthedocs.io/en/latest/_images/libCEED.png)\n",
    "\n",
    "\n",
    "## Method as it appears in the software\n",
    "\n",
    "What role does the method play in the software? How does one call it (perhaps via a higher level interface that uses the method)? Are there particular performance concerns that went into its use? How expensive is it? Can you express performance in terms that are relevant to a user? How about accuracy, conditioning, or stability in the chosen formulation?\n",
    "\n",
    "### Open questions\n",
    "\n",
    "* Any open questions you would like to discuss or get help answering?"
   ]
  },
  {
   "cell_type": "markdown",
   "metadata": {},
   "source": [
    "## Standard Nonnegative Matrix Factorization\n",
    "\n",
    "Given some matrix $V$ (it may be square or not), decompose the matrix down into $V = WH$. If the matrix $V$ has dimensions $m x n$, then $W$ will have dimesions $m x k$ and $H$ will have dimension $k x n$. $k$ is significantly smaller than $m$ or $n$ so that the factorization does not take too long to run as you are generally dealing with large datasets. What's interesting about this type of factorization is that it does not return an orthogonal basis like QR fractorizations do. $W$ is the basis retrieved and $H$ is a coefficient matrix\n",
    "\n",
    "In the factorization algorithm, the matrices update using different methods, whether it be Euclidean distance or divergence methods. Seed methods are also involved in updating but I am still confused on what they exactly are and how they are used inside the update method. Below are some of the update metrics:\n",
    "\n",
    "```python\n",
    "def euclidean(self):\n",
    "        \"\"\"Update basis and mixture matrix based on Euclidean distance multiplicative update rules.\"\"\"\n",
    "        self.H = multiply(\n",
    "            self.H, elop(dot(self.W.T, self.V), dot(self.W.T, dot(self.W, self.H)), div))\n",
    "        self.W = multiply(\n",
    "            self.W, elop(dot(self.V, self.H.T), dot(self.W, dot(self.H, self.H.T)), div))\n",
    "\n",
    "    def divergence(self):\n",
    "        \"\"\"Update basis and mixture matrix based on divergence multiplicative update rules.\"\"\"\n",
    "        H1 = repmat(self.W.sum(0).T, 1, self.V.shape[1])\n",
    "        self.H = multiply(\n",
    "            self.H, elop(dot(self.W.T, elop(self.V, dot(self.W, self.H), div)), H1, div))\n",
    "        W1 = repmat(self.H.sum(1).T, self.V.shape[0], 1)\n",
    "        self.W = multiply(\n",
    "            self.W, elop(dot(elop(self.V, dot(self.W, self.H), div), self.H.T), W1, div))\n",
    "```\n",
    "\n",
    "The seeding methods are: `self.aseeds = [\"random\", \"fixed\", \"nndsvd\", \"random_c\", \"random_vcol\"]`\n",
    "\n",
    "In this context, this method and the rest of the Nimfa library are generally used to examine complex molecular and genome structures. Due to this context, it makes sense that a simple QR factorization would not work or necessarily be relevant due to the large and complex amount of information one would be dealing with. Also a QR factorization possibly could not give sufficient information about a genome structure in a decomposed fashion.\n",
    "\n",
    "Below is a simple coding example:"
   ]
  },
  {
   "cell_type": "code",
   "execution_count": 12,
   "metadata": {},
   "outputs": [
    {
     "name": "stdout",
     "output_type": "stream",
     "text": [
      "Shape of w: (100, 30)\n",
      "Shape of h: (30, 100)\n",
      "2-Norm Condition number of w: 42.71060449792784\n",
      "2-Norm Condition number of h: 40.63011050444906\n"
     ]
    }
   ],
   "source": [
    "import numpy as np #needs numpy 1.18.2\n",
    "\n",
    "import nimfa\n",
    "\n",
    "V = np.random.rand(100, 100)\n",
    "\n",
    "nmf = nimfa.Nmf(V, seed=\"random_c\", max_iter=20, update='euclidean')\n",
    "nmf_fit = nmf()\n",
    "\n",
    "w = nmf_fit.basis()\n",
    "\n",
    "h = nmf_fit.coef()\n",
    "\n",
    "print(f'Shape of w: {w.shape}')\n",
    "print(f'Shape of h: {h.shape}')\n",
    "\n",
    "print(f'2-Norm Condition number of w: {np.linalg.cond(w)}')\n",
    "print(f'2-Norm Condition number of h: {np.linalg.cond(h)}')\n"
   ]
  },
  {
   "cell_type": "code",
   "execution_count": 13,
   "metadata": {},
   "outputs": [
    {
     "name": "stdout",
     "output_type": "stream",
     "text": [
      "Shape of w: (100, 30)\n",
      "Shape of h: (30, 100)\n",
      "2-Norm Condition number of w: 7.3914934791649465\n",
      "2-Norm Condition number of h: 6.094595477910548\n"
     ]
    }
   ],
   "source": [
    "nmf = nimfa.Nmf(V, seed=\"random_c\", max_iter=200, update='euclidean')\n",
    "nmf_fit = nmf()\n",
    "\n",
    "w = nmf_fit.basis()\n",
    "\n",
    "h = nmf_fit.coef()\n",
    "\n",
    "print(f'Shape of w: {w.shape}')\n",
    "print(f'Shape of h: {h.shape}')\n",
    "\n",
    "print(f'2-Norm Condition number of w: {np.linalg.cond(w)}')\n",
    "print(f'2-Norm Condition number of h: {np.linalg.cond(h)}')"
   ]
  },
  {
   "cell_type": "markdown",
   "metadata": {},
   "source": [
    "As seen from the results above, the resulting matrices have pretty high condition numbers, meaing that there is potential for instability. However, as the number of iterations increase the condition number decreases, meaning that the algorithm gets more stable the more the decomposition gets evalutated. \n",
    "\n",
    "NOTE: This is still an extremely complex factorization library that I still have some trouble explaining\n",
    "\n",
    "Github Repo: https://github.com/mims-harvard/nimfa\n",
    "\n",
    "Documentation: http://ai.stanford.edu/~marinka/nimfa/nimfa.methods.factorization.nmf.html"
   ]
  },
  {
   "cell_type": "code",
   "execution_count": null,
   "metadata": {},
   "outputs": [],
   "source": []
  }
 ],
 "metadata": {
  "kernelspec": {
   "display_name": "Python 3",
   "language": "python",
   "name": "python3"
  },
  "language_info": {
   "codemirror_mode": {
    "name": "ipython",
    "version": 3
   },
   "file_extension": ".py",
   "mimetype": "text/x-python",
   "name": "python",
   "nbconvert_exporter": "python",
   "pygments_lexer": "ipython3",
   "version": "3.6.10"
  }
 },
 "nbformat": 4,
 "nbformat_minor": 4
}
